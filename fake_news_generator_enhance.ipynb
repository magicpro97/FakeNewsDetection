{
 "cells": [
  {
   "cell_type": "code",
   "id": "initial_id",
   "metadata": {
    "collapsed": true,
    "ExecuteTime": {
     "end_time": "2025-03-26T17:09:00.647061Z",
     "start_time": "2025-03-26T16:17:10.698269Z"
    }
   },
   "source": [
    "from openai import OpenAI\n",
    "import pandas as pd\n",
    "from tqdm import tqdm\n",
    "import concurrent.futures\n",
    "import time\n",
    "import random\n",
    "\n",
    "client = OpenAI(\n",
    "  api_key=\"\"\n",
    ")\n",
    "\n",
    "# Đọc dữ liệu từ vnexpress_dataset.csv\n",
    "df = pd.read_csv(\"./data/vnexpress_dataset.csv\")\n",
    "\n",
    "# Hàm gọi API để tạo tin giả\n",
    "def generate_fake_news(row):\n",
    "    try:\n",
    "        content = row[\"Content\"]\n",
    "        prompt = f\"\"\"\n",
    "        Đây là một bản tin thật từ báo chí chính thống:\n",
    "        [TIN THẬT]: {content}\n",
    "\n",
    "        Hãy tạo 3 bản tin giả dựa trên nội dung này. Các bản tin giả phải có nội dung hợp lý nhưng không đúng sự thật.\n",
    "        Không sao chép nguyên văn từ tin thật mà hãy biến đổi câu chữ hoặc thêm thông tin gây hiểu lầm.\n",
    "\n",
    "        Định dạng đầu ra:\n",
    "        1. [Bản tin giả 1]\n",
    "        2. [Bản tin giả 2]\n",
    "        3. [Bản tin giả 3]\n",
    "\n",
    "        Và không bao gồm các phần tử dưới đây:\n",
    "        1. [Bản tin giả 1]\n",
    "        2. [Bản tin giả 2]\n",
    "        3. [Bản tin giả 3]\n",
    "\n",
    "        Không đánh số đầu dòng\n",
    "        \"\"\"\n",
    "\n",
    "        response = client.chat.completions.create(\n",
    "            model=\"gpt-4o-mini\",\n",
    "            messages=[{\"role\": \"user\", \"content\": prompt}],\n",
    "            temperature=0.7,\n",
    "        )\n",
    "\n",
    "        fake_news = []\n",
    "        for choice in response.choices:\n",
    "            for fake_content in choice.message.content.split(\"\\n\"):\n",
    "                if fake_content.strip():\n",
    "                    fake_news.append({\n",
    "                        \"Title\": row[\"Title\"],\n",
    "                        \"Link\": row[\"Link\"],\n",
    "                        \"Views\": row[\"Views\"],\n",
    "                        \"Comments\": row[\"Comments\"],\n",
    "                        \"Content\": fake_content.strip()\n",
    "                    })\n",
    "\n",
    "        # Filter out any potential duplicate of original content\n",
    "        fake_news = [news for news in fake_news if news[\"Content\"] != content]\n",
    "\n",
    "        return fake_news\n",
    "    except Exception as e:\n",
    "        print(f\"Error processing row: {e}\")\n",
    "        return []\n",
    "\n",
    "# Số lượng worker để xử lý song song\n",
    "MAX_WORKERS = 5\n",
    "\n",
    "fake_news_list = []\n",
    "\n",
    "# Xử lý song song với ThreadPoolExecutor\n",
    "with concurrent.futures.ThreadPoolExecutor(max_workers=MAX_WORKERS) as executor:\n",
    "    # Tạo dictionary của các future với tham số đầu vào\n",
    "    future_to_row = {executor.submit(generate_fake_news, row): i for i, row in df.iterrows()}\n",
    "\n",
    "    # Xử lý kết quả khi hoàn thành\n",
    "    for future in tqdm(concurrent.futures.as_completed(future_to_row), total=len(future_to_row), desc=\"Generating fake news\"):\n",
    "        try:\n",
    "            results = future.result()\n",
    "            fake_news_list.extend(results)\n",
    "\n",
    "            # Giảm tải API bằng cách đợi một chút giữa các yêu cầu\n",
    "            time.sleep(random.uniform(0.1, 0.5))\n",
    "        except Exception as e:\n",
    "            print(f\"Exception occurred: {e}\")\n",
    "\n",
    "# Lưu vào file vnexpress_fake_dataset.csv\n",
    "fake_df = pd.DataFrame(fake_news_list)\n",
    "fake_df.to_csv(\"./data/vnexpress_fake_dataset_enhance.csv\", index=False, encoding=\"utf-8-sig\")\n",
    "\n",
    "print(f\"✅ Đã tạo và lưu {len(fake_news_list)} tin giả thành công vào vnexpress_fake_dataset.csv\")"
   ],
   "outputs": [
    {
     "name": "stderr",
     "output_type": "stream",
     "text": [
      "Generating fake news: 100%|██████████| 1672/1672 [51:48<00:00,  1.86s/it] \n"
     ]
    },
    {
     "name": "stdout",
     "output_type": "stream",
     "text": [
      "✅ Đã tạo và lưu 8572 tin giả thành công vào vnexpress_fake_dataset.csv\n"
     ]
    }
   ],
   "execution_count": 1
  },
  {
   "metadata": {},
   "cell_type": "code",
   "outputs": [],
   "execution_count": null,
   "source": "",
   "id": "29c19e27abbd0179"
  }
 ],
 "metadata": {
  "kernelspec": {
   "display_name": "Python 3",
   "language": "python",
   "name": "python3"
  },
  "language_info": {
   "codemirror_mode": {
    "name": "ipython",
    "version": 2
   },
   "file_extension": ".py",
   "mimetype": "text/x-python",
   "name": "python",
   "nbconvert_exporter": "python",
   "pygments_lexer": "ipython2",
   "version": "2.7.6"
  }
 },
 "nbformat": 4,
 "nbformat_minor": 5
}
