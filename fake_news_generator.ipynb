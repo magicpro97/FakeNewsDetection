{
 "cells": [
  {
   "cell_type": "code",
   "id": "initial_id",
   "metadata": {
    "collapsed": true,
    "ExecuteTime": {
     "end_time": "2025-03-25T19:18:47.437828Z",
     "start_time": "2025-03-25T15:10:51.777429Z"
    }
   },
   "source": [
    "from openai import OpenAI\n",
    "import pandas as pd\n",
    "from tqdm import tqdm\n",
    "\n",
    "client = OpenAI(\n",
    "  api_key=\"\"\n",
    ")\n",
    "\n",
    "# Đọc dữ liệu từ vnexpress_dataset.csv\n",
    "df = pd.read_csv(\"./data/vnexpress_dataset.csv\")\n",
    "\n",
    "# Hàm gọi API để tạo tin giả\n",
    "def generate_fake_news(content):\n",
    "    prompt = f\"\"\"\n",
    "    Đây là một bản tin thật từ báo chí chính thống:\n",
    "    [TIN THẬT]: {content}\n",
    "\n",
    "    Hãy tạo 3 bản tin giả dựa trên nội dung này. Các bản tin giả phải có nội dung hợp lý nhưng không đúng sự thật.\n",
    "    Không sao chép nguyên văn từ tin thật mà hãy biến đổi câu chữ hoặc thêm thông tin gây hiểu lầm.\n",
    "\n",
    "    Định dạng đầu ra:\n",
    "    1. [Bản tin giả 1]\n",
    "    2. [Bản tin giả 2]\n",
    "    3. [Bản tin giả 3]\n",
    "    \"\"\"\n",
    "\n",
    "    response = client.chat.completions.create(\n",
    "        model=\"gpt-4o-mini\",\n",
    "        messages=[{\"role\": \"user\", \"content\": prompt}],\n",
    "        temperature=0.7,\n",
    "        max_tokens=1024\n",
    "    )\n",
    "\n",
    "\n",
    "    if \"choices\" in response and response[\"choices\"]:\n",
    "        text = response[\"choices\"][0][\"message\"][\"content\"]\n",
    "        return text.split(\"\\n\")  # Tách thành danh sách 3 tin giả\n",
    "    return [\"\"] * 3  # Trả về rỗng nếu có lỗi\n",
    "\n",
    "# Tạo danh sách dữ liệu mới\n",
    "fake_news_list = []\n",
    "for _, row in tqdm(df.iterrows(), total=len(df), desc=\"Generating fake news\"):\n",
    "    fake_contents = generate_fake_news(row[\"Content\"])\n",
    "    for fake_content in fake_contents:\n",
    "        fake_news_list.append({\n",
    "            \"Title\": row[\"Title\"],\n",
    "            \"Link\": row[\"Link\"],\n",
    "            \"Views\": row[\"Views\"],\n",
    "            \"Comments\": row[\"Comments\"],\n",
    "            \"Content\": fake_content.strip()\n",
    "        })\n",
    "\n",
    "# Lưu vào file vnexpress_fake_dataset.csv\n",
    "fake_df = pd.DataFrame(fake_news_list)\n",
    "fake_df.to_csv(\"vnexpress_fake_dataset.csv\", index=False, encoding=\"utf-8-sig\")\n",
    "\n",
    "print(\"✅ Đã tạo và lưu tin giả thành công vào vnexpress_fake_dataset.csv\")\n"
   ],
   "outputs": [
    {
     "name": "stderr",
     "output_type": "stream",
     "text": [
      "Generating fake news: 100%|██████████| 1672/1672 [4:07:55<00:00,  8.90s/it]  "
     ]
    },
    {
     "name": "stdout",
     "output_type": "stream",
     "text": [
      "✅ Đã tạo và lưu tin giả thành công vào vnexpress_fake_dataset.csv\n"
     ]
    },
    {
     "name": "stderr",
     "output_type": "stream",
     "text": [
      "\n"
     ]
    }
   ],
   "execution_count": 4
  }
 ],
 "metadata": {
  "kernelspec": {
   "display_name": "Python 3",
   "language": "python",
   "name": "python3"
  },
  "language_info": {
   "codemirror_mode": {
    "name": "ipython",
    "version": 2
   },
   "file_extension": ".py",
   "mimetype": "text/x-python",
   "name": "python",
   "nbconvert_exporter": "python",
   "pygments_lexer": "ipython2",
   "version": "2.7.6"
  }
 },
 "nbformat": 4,
 "nbformat_minor": 5
}
